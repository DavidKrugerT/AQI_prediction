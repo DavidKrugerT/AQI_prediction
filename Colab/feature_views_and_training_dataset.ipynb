{
  "nbformat": 4,
  "nbformat_minor": 0,
  "metadata": {
    "colab": {
      "provenance": []
    },
    "kernelspec": {
      "name": "python3",
      "display_name": "Python 3"
    },
    "language_info": {
      "name": "python"
    }
  },
  "cells": [
    {
      "cell_type": "markdown",
      "source": [
        "##Connecting to Hopsworks Feature Store"
      ],
      "metadata": {
        "id": "yyEKNfYhs1CQ"
      }
    },
    {
      "cell_type": "code",
      "source": [
        "!pip install hopsworks"
      ],
      "metadata": {
        "id": "myqo2FQXtGwz"
      },
      "execution_count": null,
      "outputs": []
    },
    {
      "cell_type": "code",
      "execution_count": null,
      "metadata": {
        "id": "85WLjlpEsTvI"
      },
      "outputs": [],
      "source": [
        "import hopsworks\n",
        "\n",
        "project = hopsworks.login()\n",
        "\n",
        "fs = project.get_feature_store() "
      ]
    },
    {
      "cell_type": "code",
      "source": [
        "air_quality_fg = fs.get_or_create_feature_group(\n",
        "    name = 'air_quality_fg',\n",
        "    version = 2\n",
        ")\n",
        "weather_fg = fs.get_or_create_feature_group(\n",
        "    name = 'weather_fg',\n",
        "    version = 1\n",
        ")"
      ],
      "metadata": {
        "id": "VpIGzFxas5xs"
      },
      "execution_count": null,
      "outputs": []
    },
    {
      "cell_type": "code",
      "source": [
        "query = air_quality_fg.select_all().join(weather_fg.select_all())"
      ],
      "metadata": {
        "id": "7mHvfTLOs7qF"
      },
      "execution_count": null,
      "outputs": []
    },
    {
      "cell_type": "code",
      "source": [
        "query.read()"
      ],
      "metadata": {
        "id": "FfJckyits9RH"
      },
      "execution_count": null,
      "outputs": []
    },
    {
      "cell_type": "markdown",
      "source": [
        "## Feature View Creation and Retrieving"
      ],
      "metadata": {
        "id": "NDWeJOedu4z4"
      }
    },
    {
      "cell_type": "code",
      "source": [
        "query = air_quality_fg.select_all().join(weather_fg.select_all())\n",
        "\n",
        "query_show = query.show(5)\n",
        "col_names = query_show.columns\n",
        "\n",
        "query_show"
      ],
      "metadata": {
        "id": "SnYrLOUjvHzy"
      },
      "execution_count": null,
      "outputs": []
    },
    {
      "cell_type": "markdown",
      "source": [
        "### Transformation functions"
      ],
      "metadata": {
        "id": "QFLRyxpZvw_h"
      }
    },
    {
      "cell_type": "code",
      "source": [
        "[t_func.name for t_func in fs.get_transformation_functions()]"
      ],
      "metadata": {
        "id": "e0eUBIhkv0Q3"
      },
      "execution_count": null,
      "outputs": []
    },
    {
      "cell_type": "code",
      "source": [
        "category_cols = ['date','weathercode','sunrise','sunset','aqi']\n",
        "\n",
        "mapping_transformers = {col_name:fs.get_transformation_function(name='standard_scaler') for col_name in col_names if col_name not in category_cols}\n",
        "category_cols = {col_name:fs.get_transformation_function(name='label_encoder') for col_name in category_cols if col_name not in ['date','aqi']}\n",
        "\n",
        "mapping_transformers.update(category_cols)"
      ],
      "metadata": {
        "id": "LgZR0Xqcx7XF"
      },
      "execution_count": null,
      "outputs": []
    },
    {
      "cell_type": "markdown",
      "source": [
        "## Creating Feature View"
      ],
      "metadata": {
        "id": "4yn0HmU9KO4X"
      }
    },
    {
      "cell_type": "code",
      "source": [
        "feature_view = fs.create_feature_view(\n",
        "    name = 'air_quality_fv',\n",
        "    version = 1,\n",
        "    labels=[\"aqi\"],\n",
        "    query = query\n",
        ")"
      ],
      "metadata": {
        "id": "Pd0B64JAKOWc"
      },
      "execution_count": null,
      "outputs": []
    }
  ]
}