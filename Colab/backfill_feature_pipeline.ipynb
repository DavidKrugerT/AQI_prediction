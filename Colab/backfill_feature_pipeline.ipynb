{
  "nbformat": 4,
  "nbformat_minor": 0,
  "metadata": {
    "colab": {
      "provenance": []
    },
    "kernelspec": {
      "name": "python3",
      "display_name": "Python 3"
    },
    "language_info": {
      "name": "python"
    }
  },
  "cells": [
    {
      "cell_type": "markdown",
      "source": [
        "## Imports and connect to drive"
      ],
      "metadata": {
        "id": "dfYo3x1IiPka"
      }
    },
    {
      "cell_type": "code",
      "execution_count": null,
      "metadata": {
        "id": "5WgJHFbMglV_"
      },
      "outputs": [],
      "source": [
        "from google.colab import drive\n",
        "import pandas as pd\n",
        "import requests\n",
        "import numpy as np"
      ]
    },
    {
      "cell_type": "code",
      "source": [
        "drive.mount('/content/gdrive')"
      ],
      "metadata": {
        "id": "ZQMVmWi3Kn3y"
      },
      "execution_count": null,
      "outputs": []
    },
    {
      "cell_type": "markdown",
      "source": [
        "## Read historical data"
      ],
      "metadata": {
        "id": "Xcj66gRXkcXt"
      }
    },
    {
      "cell_type": "markdown",
      "source": [
        "### Air Quality Data"
      ],
      "metadata": {
        "id": "3A-9x7SsOEN5"
      }
    },
    {
      "cell_type": "code",
      "source": [
        "def complex_function(date):\n",
        "  finalDate = \"\"\n",
        "  date_split = date.split('/')\n",
        "  for value in date_split:\n",
        "    newValue = value\n",
        "    if len(value) == 1:\n",
        "      newValue = '0' + value\n",
        "    finalDate += newValue\n",
        "  return finalDate"
      ],
      "metadata": {
        "id": "AdIvMQ5dk9h8"
      },
      "execution_count": null,
      "outputs": []
    },
    {
      "cell_type": "code",
      "source": [
        "def getAQI(pm25,pm10,no2):\n",
        "  if pm25 == ' ':\n",
        "    pm25 = 0\n",
        "  if pm10 == ' ':\n",
        "    pm10 = 0\n",
        "  if no2 == ' ':\n",
        "    no2 = 0\n",
        "  return max([int(pm25),int(pm10),int(no2)])"
      ],
      "metadata": {
        "id": "PXqofT38BVZm"
      },
      "execution_count": null,
      "outputs": []
    },
    {
      "cell_type": "code",
      "source": [
        "date = '2023/1/2'\n",
        "complex_function(date)"
      ],
      "metadata": {
        "id": "Yq8QnuXClUzJ"
      },
      "execution_count": null,
      "outputs": []
    },
    {
      "cell_type": "code",
      "source": [
        "df_air_quality = pd.read_csv('/content/gdrive/MyDrive/AQI-Predictor/Data/sundsvall-kopmangatan_sweden-air-quality.csv')\n",
        "df_air_quality.insert(1,\"aqi\",1,True)\n",
        "df_air_quality['date'] = df_air_quality['date'].apply(complex_function).astype(int)\n",
        "df_air_quality.sort_values(by = ['date'],inplace = True,ignore_index = True, ascending=False)\n",
        "df_air_quality.columns = ['date','aqi', 'pm25', 'pm10','no2']\n",
        "df_air_quality['aqi'] = df_air_quality.apply(lambda x: getAQI(x.pm25,x.pm10,x.no2),axis=1)\n",
        "df_air_quality.head()"
      ],
      "metadata": {
        "id": "tsjJ9v06h0LN"
      },
      "execution_count": null,
      "outputs": []
    },
    {
      "cell_type": "code",
      "source": [
        "df_air_quality.info"
      ],
      "metadata": {
        "id": "kVNKAUywoHzj"
      },
      "execution_count": null,
      "outputs": []
    },
    {
      "cell_type": "markdown",
      "source": [
        "### Weather Data"
      ],
      "metadata": {
        "id": "_oHnhip9N7eH"
      }
    },
    {
      "cell_type": "code",
      "source": [
        "df_weather = pd.read_csv(\"/content/gdrive/MyDrive/AQI-Predictor/Data/sundsvall-weather-data.csv\")\n",
        "df_weather.rename(columns = {'time':'date'}, inplace = True)\n",
        "df_weather.rename(columns = {'shortwave_radiation_sum_mj/m²':'shortwave_radiation_sum_mj'}, inplace = True)\n",
        "df_weather.columns = df_weather.columns.str.lower()\n",
        "df_weather.columns = df_weather.columns.str.replace('[°,(,)]', '')\n",
        "df_weather.columns = df_weather.columns.str.replace('[\" \"]', '_')\n",
        "df_weather.columns = ['date', 'weathercode', 'temperature_2m_max', 'temperature_2m_min', 'apparent_temperature_max','apparent_temperature_min',\n",
        "              'sunrise','sunset','shortwave_radiation_sum','precipitation_sum','rain_sum','snowfall_sum','precipitation_hours',\n",
        "              'windspeed_10m_max','windgusts_10m_max','winddirection_10m_dominant','et0_fao_evapotranspiration']\n",
        "df_weather['date'] = df_weather['date'].str.replace('-', '', regex=True)\n",
        "df_weather['date'] = df_weather['date'].astype(int)\n",
        "df_weather.sort_values(by = ['date'],inplace = True,ignore_index = True, ascending=False)\n",
        "df_weather.head()"
      ],
      "metadata": {
        "id": "S6IEanTSki9T"
      },
      "execution_count": null,
      "outputs": []
    },
    {
      "cell_type": "markdown",
      "source": [
        "##Connecting to Hopsworks"
      ],
      "metadata": {
        "id": "gRhIKidKMyQh"
      }
    },
    {
      "cell_type": "code",
      "source": [
        "!pip install hopsworks"
      ],
      "metadata": {
        "id": "ON7PIGCXXG3J"
      },
      "execution_count": null,
      "outputs": []
    },
    {
      "cell_type": "code",
      "source": [
        "import hopsworks\n",
        "\n",
        "project = hopsworks.login()\n",
        "\n",
        "fs = project.get_feature_store() "
      ],
      "metadata": {
        "id": "ldoMXQEdM1tv"
      },
      "execution_count": null,
      "outputs": []
    },
    {
      "cell_type": "markdown",
      "source": [
        "##Creating Feature Groups"
      ],
      "metadata": {
        "id": "9a_GTFSTM8qJ"
      }
    },
    {
      "cell_type": "markdown",
      "source": [
        "###Air Quality Data"
      ],
      "metadata": {
        "id": "Z0gboO7sNEhw"
      }
    },
    {
      "cell_type": "code",
      "source": [
        "air_quality_fg = fs.get_or_create_feature_group(\n",
        "        name = 'air_quality_fg',\n",
        "        description = 'Air Quality characteristics of each day',\n",
        "        version = 2,\n",
        "        primary_key = ['date'],\n",
        "        online_enabled = True,\n",
        "        event_time = 'date'\n",
        "    )    \n",
        "\n",
        "air_quality_fg.insert(df_air_quality)"
      ],
      "metadata": {
        "id": "W-2JH73ZNBIR"
      },
      "execution_count": null,
      "outputs": []
    },
    {
      "cell_type": "markdown",
      "source": [
        "### Weather Data"
      ],
      "metadata": {
        "id": "si5OiCmsNKSc"
      }
    },
    {
      "cell_type": "code",
      "source": [
        "weather_fg = fs.get_or_create_feature_group(\n",
        "        name = 'weather_fg',\n",
        "        description = 'Weather characteristics of each day',\n",
        "        version = 1,\n",
        "        primary_key = ['date'],\n",
        "        online_enabled = True,\n",
        "        event_time = 'date'\n",
        "    )    \n",
        "\n",
        "weather_fg.insert(df_weather)"
      ],
      "metadata": {
        "id": "3rYEfc6NNNxb"
      },
      "execution_count": null,
      "outputs": []
    }
  ]
}